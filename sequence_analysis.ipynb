{
 "cells": [
  {
   "cell_type": "code",
   "execution_count": 15,
   "outputs": [],
   "source": [
    "##########################\n",
    "\n",
    "study_name = 'chi19s3'\n",
    "study_time = 1500\n",
    "min_idea_submits = 3\n"
   ],
   "metadata": {
    "collapsed": false,
    "pycharm": {
     "name": "#%% Study variables\n",
     "is_executing": false
    }
   }
  },
  {
   "cell_type": "code",
   "execution_count": 16,
   "outputs": [],
   "source": [
    "##########################\n",
    "\n",
    "import pandas as pd\n",
    "import statistics\n",
    "import matplotlib.pyplot as plt\n",
    "import numpy as np\n",
    "\n",
    "data = pd.read_csv(study_name + '.csv', sep=';')\n",
    "\n",
    "def filter_by_idea_submits(data, timer_value, min_idea_submits):\n",
    "    column_name = str(timer_value) + '-ideaSubmitTimers'\n",
    "    return data[data[column_name] >= min_idea_submits]\n",
    "\n",
    "def get_median_requests(data, timer_value):\n",
    "    column_name = str(timer_value) + '-inspirationRequestTimers'\n",
    "    return statistics.median(data[column_name])   \n",
    "\n"
   ],
   "metadata": {
    "collapsed": false,
    "pycharm": {
     "name": "#%% Read data\n",
     "is_executing": false
    }
   }
  },
  {
   "cell_type": "code",
   "execution_count": 20,
   "outputs": [
    {
     "data": {
      "text/plain": "<Figure size 432x288 with 1 Axes>",
      "image/png": "[encoded data removed]"
     },
     "metadata": {
      "needs_background": "light"
     },
     "output_type": "display_data"
    }
   ],
   "source": [
    "##########################\n",
    "\n",
    "filtered_data = filter_by_idea_submits(data, study_time, min_idea_submits)\n",
    "med = get_median_requests(filtered_data, study_time)\n",
    "\n",
    "clipped_data = np.clip(filtered_data[str(study_time) + '-inspirationRequestTimers'], 1, 7)\n",
    "plt.hist(clipped_data, bins=np.arange(8)+0.5, color = \"#b1cefa\", edgecolor='#4287f5')\n",
    "xticks =  np.insert(np.append(np.arange(2, 7), \">=7\"),0, \"<=1\" )\n",
    "plt.title(study_name)\n",
    "plt.xlabel('Inspiration requests')\n",
    "plt.ylabel('Participants')\n",
    "plt.xticks(np.arange(7) + 1, labels = xticks)\n",
    "plt.axvline(med, color = \"blue\")\n",
    "plt.grid(axis='y', alpha = 0.4, color = \"gray\")\n"
   ],
   "metadata": {
    "collapsed": false,
    "pycharm": {
     "name": "#%% Print Histogram\n",
     "is_executing": false
    }
   }
  },
  {
   "cell_type": "code",
   "execution_count": 18,
   "outputs": [
    {
     "data": {
      "text/plain": "13"
     },
     "metadata": {},
     "output_type": "execute_result",
     "execution_count": 18
    }
   ],
   "source": [
    "##########################\n",
    "\n",
    "def get_types(filtered_data, timer_value):\n",
    "    median = get_median_requests(filtered_data, timer_value)\n",
    "    column_name = str(timer_value) + '-inspirationRequestTimers'\n",
    "    seekers = filtered_data[filtered_data[column_name] > median][\"workerId\"]\n",
    "    avoiders = filtered_data[filtered_data[column_name] <= 2][\"workerId\"]\n",
    "    return (seekers, avoiders)\n",
    "    \n",
    "seekers = get_types(filtered_data, study_time)[0]\n",
    "avoiders = get_types(filtered_data, study_time)[1]\n",
    "seekers.size\n"
   ],
   "metadata": {
    "collapsed": false,
    "pycharm": {
     "name": "#%% Get ideator types\n",
     "is_executing": false
    }
   }
  },
  {
   "cell_type": "code",
   "execution_count": 19,
   "outputs": [
    {
     "data": {
      "text/plain": "{'avoider_submits': array([[0, 0, 0, ..., 0, 0, 0],\n        [0, 0, 0, ..., 0, 0, 0],\n        [0, 0, 0, ..., 0, 0, 0],\n        ...,\n        [0, 0, 0, ..., 0, 0, 0],\n        [0, 0, 0, ..., 0, 0, 0],\n        [0, 0, 0, ..., 0, 0, 1]], dtype=int64),\n 'avoider_requests': array([[0, 0, 0, ..., 0, 0, 0],\n        [0, 0, 0, ..., 0, 0, 0],\n        [0, 0, 0, ..., 0, 0, 0],\n        ...,\n        [0, 0, 0, ..., 0, 0, 0],\n        [0, 0, 0, ..., 0, 0, 0],\n        [0, 0, 0, ..., 0, 0, 0]], dtype=int64),\n 'seeker_submits': array([[0, 0, 0, ..., 0, 0, 0],\n        [0, 0, 0, ..., 0, 0, 0],\n        [0, 0, 0, ..., 0, 0, 0],\n        ...,\n        [0, 0, 0, ..., 0, 0, 0],\n        [0, 0, 0, ..., 0, 0, 0],\n        [0, 0, 0, ..., 0, 0, 0]], dtype=int64),\n 'seeker_requests': array([[0, 0, 0, ..., 0, 0, 0],\n        [0, 0, 0, ..., 0, 0, 0],\n        [0, 0, 0, ..., 0, 0, 0],\n        ...,\n        [0, 0, 0, ..., 0, 0, 0],\n        [0, 0, 0, ..., 0, 0, 0],\n        [0, 0, 0, ..., 0, 0, 0]], dtype=int64)}"
     },
     "metadata": {},
     "output_type": "execute_result",
     "execution_count": 19
    }
   ],
   "source": [
    "##########################\n",
    "\n",
    "submits = pd.read_csv(study_name + '_ideaSubmits.csv', sep=';')\n",
    "avoider_submits = submits[submits[\"workerId\"].isin(avoiders)]\n",
    "seeker_submits = submits[submits[\"workerId\"].isin(seekers)]\n",
    "\n",
    "submits = pd.read_csv(study_name + '_inspirationRequests.csv', sep=';')\n",
    "avoider_requests = submits[submits[\"workerId\"].isin(avoiders)]\n",
    "seeker_requests = submits[submits[\"workerId\"].isin(seekers)]\n",
    "#seekers.size\n",
    "\n",
    "# Get sliding-window buckets for each event array:\n",
    "# Different lengths -> Fill up with zeros? Cut at smallest?\n",
    "# Worker1: [[0,1,2,3],[1,2,3,4],[2,3,4,5],...]\n",
    "#            ^^^^^^^^ one bucket\n",
    "\n",
    "# in seconds\n",
    "bucket_length = 50\n",
    "sliding_window = 10\n",
    "\n",
    "def get_buckets(row):\n",
    "    i = 0\n",
    "    result = []\n",
    "    while i < row.size:\n",
    "        result.append(row[i:i+sliding_window:1])\n",
    "        i = i + sliding_window\n",
    "    return np.asarray(result)\n",
    "\n",
    "def get_event_data(event_table):        \n",
    "    flattened_events = event_table.drop(columns = \"workerId\")\\\n",
    "        .to_numpy()\\\n",
    "        .flatten()\n",
    "    #np.vectorize(get_buckets)(d)\n",
    "    return np.array(get_buckets(flattened_events))\n",
    "\n",
    "results = {\n",
    "    \"avoider_submits\": get_event_data(avoider_submits),\n",
    "    \"avoider_requests\": get_event_data(avoider_requests),\n",
    "    \"seeker_submits\": get_event_data(seeker_submits),\n",
    "    \"seeker_requests\": get_event_data(seeker_requests),\n",
    "}\n",
    "results"
   ],
   "metadata": {
    "collapsed": false,
    "pycharm": {
     "name": "#%% Get sequence analysis data\n",
     "is_executing": false
    }
   }
  }
 ],
 "metadata": {
  "kernelspec": {
   "display_name": "Python 3",
   "language": "python",
   "name": "python3"
  },
  "language_info": {
   "codemirror_mode": {
    "name": "ipython",
    "version": 3
   },
   "file_extension": ".py",
   "mimetype": "text/x-python",
   "name": "python",
   "nbconvert_exporter": "python",
   "pygments_lexer": "ipython3",
   "version": "3.7.3"
  },
  "pycharm": {
   "stem_cell": {
    "cell_type": "raw",
    "source": [],
    "metadata": {
     "collapsed": false
    }
   }
  }
 },
 "nbformat": 4,
 "nbformat_minor": 2
}