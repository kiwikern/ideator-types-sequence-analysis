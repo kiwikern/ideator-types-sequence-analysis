{
 "cells": [
  {
   "cell_type": "code",
   "execution_count": 1,
   "metadata": {
    "pycharm": {
     "is_executing": false,
     "name": "#%% Global variables\n"
    }
   },
   "outputs": [],
   "source": [
    "##########################\n",
    "studies = [\n",
    "    { 'study_name' : 'ac2', 'study_time' : 1200 },\n",
    "    { 'study_name' : 'ac2', 'study_time' : 900 },\n",
    "    { 'study_name' : 'chi19s2', 'study_time' : 900 },\n",
    "    { 'study_name' : 'chi19s3', 'study_time' : 1500 },\n",
    "    { 'study_name' : 'chi19s3', 'study_time' : 900 }\n",
    "]\n",
    "min_idea_submits = 3\n",
    "\n",
    "# Must not be smaller than sliding_window\n",
    "bucket_length = 60\n",
    "\n",
    "# Sliding window defaults to bucket_length if <0\n",
    "sliding_window = 10\n",
    "\n"
   ]
  },
  {
   "cell_type": "code",
   "execution_count": 2,
   "metadata": {
    "pycharm": {
     "is_executing": false,
     "name": "#%% Read data\n"
    }
   },
   "outputs": [],
   "source": [
    "##########################\n",
    "import pandas as pd\n",
    "import statistics\n",
    "import matplotlib.pyplot as plt\n",
    "import numpy as np\n",
    "import pickle\n",
    "from sklearn.model_selection import train_test_split\n",
    "\n",
    "def filter_by_idea_submits(study_name, timer_value, min_idea_submits):\n",
    "    data = pd.read_csv(study_name + '.csv', sep=';')\n",
    "    column_name = str(timer_value) + '-ideaSubmitTimers'\n",
    "    return data[data[column_name] >= min_idea_submits]\n",
    "\n",
    "def get_median_requests(data, timer_value):\n",
    "    column_name = str(timer_value) + '-inspirationRequestTimers'\n",
    "    return statistics.median(data[column_name]) "
   ]
  },
  {
   "cell_type": "code",
   "execution_count": 3,
   "metadata": {
    "pycharm": {
     "is_executing": false,
     "name": "#%% Print Histogram\n"
    }
   },
   "outputs": [
    {
     "data": {
      "image/png": "[encoded data removed]",
      "text/plain": [
       "<Figure size 432x288 with 3 Axes>"
      ]
     },
     "metadata": {
      "needs_background": "light"
     },
     "output_type": "display_data"
    }
   ],
   "source": [
    "##########################\n",
    "def print_histogram(study):\n",
    "    filtered_data = filter_by_idea_submits(study['study_name'], study['study_time'], min_idea_submits)\n",
    "    med = get_median_requests(filtered_data, study['study_time'])\n",
    "    \n",
    "    clipped_data = np.clip(filtered_data[str(study['study_time']) + '-inspirationRequestTimers'], 1, 7)\n",
    "    plt.hist(clipped_data, bins=np.arange(8)+0.5, color = \"#b1cefa\", edgecolor='#4287f5')\n",
    "    xticks =  np.insert(np.append(np.arange(2, 7), \">=7\"),0, \"<=1\" )\n",
    "    plt.title(study['study_name'])\n",
    "    plt.xlabel('Inspiration requests')\n",
    "    plt.ylabel('Participants')\n",
    "    plt.xticks(np.arange(7) + 1, labels = xticks)\n",
    "    plt.axvline(med, color = \"blue\")\n",
    "    plt.grid(axis='y', alpha = 0.4, color = \"gray\")\n",
    "\n",
    "fig = plt.figure()\n",
    "fig.add_subplot(1,3,1)\n",
    "print_histogram(studies[0])\n",
    "fig.add_subplot(1,3,2)\n",
    "print_histogram(studies[1])\n",
    "fig.add_subplot(1,3,3)\n",
    "print_histogram(studies[2])\n",
    "plt.show()"
   ]
  },
  {
   "cell_type": "code",
   "execution_count": 4,
   "metadata": {
    "pycharm": {
     "is_executing": false,
     "name": "#%% Get ideator types\n"
    }
   },
   "outputs": [],
   "source": [
    "##########################\n",
    "\n",
    "def get_types(filtered_data, timer_value):\n",
    "    median = get_median_requests(filtered_data, timer_value)\n",
    "    column_name = str(timer_value) + '-inspirationRequestTimers'\n",
    "    seekers = filtered_data[filtered_data[column_name] > median][\"workerId\"]\n",
    "    avoiders = filtered_data[filtered_data[column_name] <= 2][\"workerId\"]\n",
    "    return {'seekers': seekers, 'avoiders': avoiders}\n",
    "    "
   ]
  },
  {
   "cell_type": "code",
   "execution_count": 5,
   "metadata": {
    "pycharm": {
     "is_executing": false,
     "name": "#%%\n"
    }
   },
   "outputs": [],
   "source": [
    "def get_events_per_type(study, types):\n",
    "    submits = pd.read_csv(study['study_name'] + '_ideaSubmits.csv', sep=';')\n",
    "    requests = pd.read_csv(study['study_name'] + '_inspirationRequests.csv', sep=';')\n",
    "    return {\n",
    "        'avoiders': [\n",
    "            submits[submits['workerId'].isin(types['avoiders'])],\n",
    "            requests[requests['workerId'].isin(types['avoiders'])]\n",
    "        ],\n",
    "        'seekers': [\n",
    "            submits[submits['workerId'].isin(types['seekers'])],\n",
    "            requests[requests['workerId'].isin(types['seekers'])]\n",
    "        ]\n",
    "    }\n",
    "\n",
    "def get_event_data(submits_table, requests_table):        \n",
    "    submits_table = submits_table.drop(columns = \"workerId\")\n",
    "    requests_table = requests_table.drop(columns = \"workerId\")\n",
    "    event_data = []\n",
    "    for i in range(len(submits_table)):\n",
    "        event_data.append(create_bucket(submits_table.iloc[i,:], requests_table.iloc[i,:]))\n",
    "    return event_data\n",
    "\n",
    "def create_bucket(submitsRow, requestsRow):\n",
    "    results = []\n",
    "    i = 0\n",
    "    while i < submitsRow.size:\n",
    "        result = sum(submitsRow[i:i+bucket_length])\n",
    "        results.append(result)\n",
    "        i+=bucket_length\n",
    "    i = 0\n",
    "    while i < requestsRow.size:\n",
    "        result = sum(requestsRow[i:i+bucket_length])\n",
    "        results.append(result)\n",
    "        i+=bucket_length\n",
    "    return results\n",
    "\n",
    "def get_result(events_per_type): \n",
    "    # input {'avoiders': [[submits x seconds: 0, 0, 0, 1, 1, 0], [requests x seconds: 0, 0, 0, 1, 1, 0]], ...}\n",
    "    # output {'avoiders': [submits x bucket_length: 0, 4, 2], [requests x bucket_length: 0, 2, 0]}\n",
    "    avoiders = get_event_data(events_per_type['avoiders'][0], events_per_type['avoiders'][1])\n",
    "    seekers = get_event_data(events_per_type['seekers'][0], events_per_type['seekers'][1])\n",
    "    return {\n",
    "        'avoiders': avoiders,\n",
    "        'seekers': seekers\n",
    "    }\n",
    "\n",
    "\n",
    "def get_results_for_all_studies(): \n",
    "    results = {}\n",
    "    for study in studies:\n",
    "        filtered_data = filter_by_idea_submits(study['study_name'], study['study_time'], min_idea_submits)\n",
    "        # TODO: fill data up with 0s\n",
    "        \n",
    "        types = get_types(filtered_data, study['study_time'])\n",
    "        \n",
    "        # {'avoiders': [[submits], [requests], ], ...}\n",
    "        events_per_type = get_events_per_type(study, types)\n",
    "        \n",
    "        result = get_result(events_per_type)\n",
    "        results[study['study_name']] = result\n",
    "    return results"
   ]
  },
  {
   "cell_type": "code",
   "execution_count": 12,
   "metadata": {
    "pycharm": {
     "is_executing": false
    }
   },
   "outputs": [
    {
     "name": "stdout",
     "output_type": "stream",
     "text": [
      "all:    (136, 50) (136,)\n",
      "train:  (102, 20) (102,)\n",
      "test:   (34, 20) (34,)\n"
     ]
    }
   ],
   "source": [
    "all_studies = get_results_for_all_studies()\n",
    "# determine matrix size\n",
    "# nr of buckets = max number of buckets\n",
    "max_bucket_size = 0\n",
    "for study_name in all_studies.keys():\n",
    "    max_bucket_size = max(max_bucket_size, len(all_studies[study_name]['avoiders'][0]))\n",
    "# nr of lines = sum of lines\n",
    "nr_lines = sum([len(all_studies[study_name][name]) for study_name in all_studies.keys() for name in ['avoiders', 'seekers']])\n",
    "x, y = np.zeros((nr_lines, max_bucket_size)), np.zeros(nr_lines)\n",
    "current_line = 0\n",
    "for study_name in all_studies.keys():\n",
    "    for y_value, type in enumerate(['avoiders', 'seekers']):\n",
    "        type_results = np.array(all_studies[study_name][type])\n",
    "        type_count = len(type_results)\n",
    "        bucket_count = len(type_results[0])\n",
    "        x[current_line:current_line+type_count,:bucket_count] += type_results\n",
    "        y[current_line:current_line+type_count] = y_value \n",
    "        current_line += type_count\n",
    "        \n",
    "def shorten_x(x, perc=0.5):\n",
    "    nrows, ncols = x.shape\n",
    "    # take x features apart by bins of submits and requests\n",
    "    col_cut = int(ncols/2)\n",
    "    x_submits, x_requests = x[:,:col_cut], x[:,col_cut:]\n",
    "    # create return array\n",
    "    cut_partial = int(perc*int(ncols/2))\n",
    "    x_return = np.zeros((nrows, 2*cut_partial))\n",
    "    x_return[:,:cut_partial] = x_submits[:,:cut_partial]\n",
    "    x_return[:,cut_partial:] = x_requests[:,:cut_partial]\n",
    "    return x_return\n",
    "\n",
    "x_train, x_test, y_train, y_test = train_test_split(shorten_x(x, 0.4), y, test_size=0.25)\n",
    "print('all:   ', x.shape, y.shape)\n",
    "print('train: ', x_train.shape, y_train.shape)\n",
    "print('test:  ', x_test.shape, y_test.shape)"
   ]
  },
  {
   "cell_type": "code",
   "execution_count": 10,
   "metadata": {},
   "outputs": [
    {
     "data": {
      "image/png": "[encoded data removed]",
      "text/plain": [
       "<Figure size 432x288 with 1 Axes>"
      ]
     },
     "metadata": {
      "needs_background": "light"
     },
     "output_type": "display_data"
    },
    {
     "name": "stdout",
     "output_type": "stream",
     "text": [
      "[0.30891141 0.702      0.82       0.928      0.964      0.882\n",
      " 0.21309444 0.842      0.6022864  0.08409848 0.9684     0.918\n",
      " 0.05450931 0.15976771 0.17312633 0.51614423 0.8072     0.00231912\n",
      " 0.76898182 0.86       0.4965     0.09931049 0.02179286 0.996\n",
      " 0.06191667 1.         0.30891141 0.912      0.133897   0.25354894\n",
      " 0.93       0.249469   0.2781105  0.62322143]\n",
      "[0 1 1 1 1 1 0 1 1 0 1 1 0 0 0 1 1 0 1 1 0 0 0 1 0 1 0 1 0 0 1 0 0 1]\n",
      "confusion matrix:\n",
      " [[15  1]\n",
      " [ 2 16]]\n"
     ]
    }
   ],
   "source": [
    "# trees offer readable rules\n",
    "from sklearn.tree     import DecisionTreeClassifier, DecisionTreeRegressor\n",
    "from sklearn.ensemble import RandomForestClassifier, RandomForestRegressor\n",
    "# support vector machines (svm) allow for simple (but effective) classification\n",
    "from sklearn.svm import SVC\n",
    "\n",
    "# metric by which to measure the ml algorithm\n",
    "from sklearn.metrics import confusion_matrix\n",
    "\n",
    "# instantiate classifier\n",
    "#clf = DecisionTreeClassifier(max_depth=10)\n",
    "#clf = DecisionTreeRegressor(max_depth=10)\n",
    "#clf = RandomForestClassifier(n_estimators=500, max_depth=10, random_state=0)\n",
    "clf = RandomForestRegressor(n_estimators=500, max_depth=10, random_state=0)\n",
    "#clf = SVC(kernel='linear')\n",
    "\n",
    "# train classifier\n",
    "clf.fit(x_train, y_train)\n",
    "\n",
    "# get predicted classes\n",
    "y_pred = clf.predict(x_test)\n",
    "plt.hist(y_pred)\n",
    "plt.show()\n",
    "print(y_pred)\n",
    "y_pred = np.array([0 if val<0.5 else 1 for val in y_pred])\n",
    "print(y_pred)\n",
    "print('confusion matrix:\\n', confusion_matrix(y_pred, y_test))"
   ]
  },
  {
   "cell_type": "code",
   "execution_count": 13,
   "metadata": {},
   "outputs": [
    {
     "name": "stdout",
     "output_type": "stream",
     "text": [
      "RandomForestRegressor(bootstrap=True, criterion='mse', max_depth=10,\n",
      "                      max_features='auto', max_leaf_nodes=None,\n",
      "                      min_impurity_decrease=0.0, min_impurity_split=None,\n",
      "                      min_samples_leaf=1, min_samples_split=2,\n",
      "                      min_weight_fraction_leaf=0.0, n_estimators=500,\n",
      "                      n_jobs=None, oob_score=False, random_state=0, verbose=0,\n",
      "                      warm_start=False)\n",
      "[0.9684     0.14269696 0.996      0.912      0.04948549 0.02841905\n",
      " 0.82602381 0.133897   0.01751248 0.30891141 0.918      0.986\n",
      " 0.008      0.992      0.956      0.93       0.249469   0.842\n",
      " 0.994      0.84       0.4965     0.97166667 0.3519548  0.92366667\n",
      " 0.978      0.04466991 0.08815642 0.86       0.47180102 0.13058503\n",
      " 0.72890942 0.8524     0.55946315 0.25642301]\n"
     ]
    }
   ],
   "source": [
    "filename = 'finalized_model.sav'\n",
    "pickle.dump(clf, open(filename, 'wb'))\n",
    "\n",
    "# load the model from disk\n",
    "clf2 = pickle.load(open(filename, 'rb'))\n",
    "print(clf2)\n",
    "y_pred = clf2.predict(x_test)\n",
    "print(y_pred)\n",
    "\n",
    "np.savetxt('xtest.txt', x_test)"
   ]
  }
 ],
 "metadata": {
  "kernelspec": {
   "display_name": "Python 3",
   "language": "python",
   "name": "python3"
  },
  "language_info": {
   "codemirror_mode": {
    "name": "ipython",
    "version": 3
   },
   "file_extension": ".py",
   "mimetype": "text/x-python",
   "name": "python",
   "nbconvert_exporter": "python",
   "pygments_lexer": "ipython3",
   "version": "3.6.8"
  },
  "pycharm": {
   "stem_cell": {
    "cell_type": "raw",
    "metadata": {
     "collapsed": false
    },
    "source": []
   }
  }
 },
 "nbformat": 4,
 "nbformat_minor": 2
}
